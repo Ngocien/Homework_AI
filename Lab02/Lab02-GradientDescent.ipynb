{
 "cells": [
  {
   "cell_type": "markdown",
   "metadata": {
    "id": "80cytuYSuyuz"
   },
   "source": [
    "# Lab02: Gradient Descent.\n",
    "\n",
    "- Student ID: 18127046\n",
    "- Student name: Lư Ngọc Liên"
   ]
  },
  {
   "cell_type": "markdown",
   "metadata": {
    "id": "UW5iBOIhuyu1"
   },
   "source": [
    "**How to do your homework**\n",
    "\n",
    "\n",
    "You will work directly on this notebook; the word `TODO` indicate the parts you need to do.\n",
    "\n",
    "You can discuss ideas with classmates as well as finding information from the internet, book, etc...; but *this homework must be your*.\n",
    "\n",
    "**How to submit your homework**\n",
    "\n",
    "Before submitting, rerun the notebook (`Kernel` ->` Restart & Run All`).\n",
    "\n",
    "Then create a folder named `ID` (for example, if your ID is 1234567, then name the folder `1234567`) Copy file notebook to this folder, compress and submit it on moodle (**recommended compression format: zip**).\n",
    "\n",
    "**Contents:**\n",
    "- Gradient descent.\n",
    "\n",
    "**Notes that**: this lab is prepared based on the book \"Deep Learning for Computer Vision with Python\" by Adrian Rosebrock."
   ]
  },
  {
   "cell_type": "markdown",
   "metadata": {
    "id": "Ghp7Cg7euyu2"
   },
   "source": [
    "## 1. Loss landscape\n",
    "![Loss lanscape](img.png) <center>**Figure 1. Loss landscape visualized as a 2D plot. Source: codecamp.vn**<center>\n",
    "\n",
    "&nbsp;&nbsp;&nbsp;&nbsp; The gradient descent method is an iterative optimization algorithm that operates over a loss landscape (also called an optimization surface).As we can see, our loss landscape has many peaks and valleys based on which values our parameters take on. Each peak is a local maximum that represents very high regions of loss – the local maximum with the largest loss across the entire loss landscape is the global maximum. Similarly, we also have local minimum which represents many small regions of loss. The local minimum with the smallest loss across the loss landscape is our global minimum. In an ideal world, we would like to find this global minimum, ensuring our parameters take on the most optimal possible values.\n",
    " \n",
    "&nbsp;&nbsp;&nbsp;&nbsp;Each position along the surface of the corresponds to a particular loss value given a set of\n",
    "parameters $\\mathbf{W}$ (weight matrix) and $\\mathbf{b}$ (bias vector). Our goal is to try different values of $\\mathbf{W}$ and $\\mathbf{b}$, evaluate their loss, and then take a step towards more optimal values that (ideally) have lower loss."
   ]
  },
  {
   "cell_type": "markdown",
   "metadata": {
    "id": "ugUR9D0Zuyu3"
   },
   "source": [
    "## 2. The “Gradient” in Gradient Descent"
   ]
  },
  {
   "cell_type": "markdown",
   "metadata": {
    "id": "Aw-wiisluyu5"
   },
   "source": [
    "&nbsp;&nbsp;&nbsp;&nbsp;We can use $\\mathbf{W}$ and $\\mathbf{b}$ and to compute a loss function $L$ or we are able to find our relative position on the loss landscape, but **which direction** we should take a step to move closer to the minimum.\n",
    "\n",
    "- All We need to do is follow the slope of the gradient $\\nabla_{\\mathbf{W}}$. We can compute the gradient $\\nabla_{\\mathbf{W}}$ across all dimensions using the following equation:\n",
    "$$\\dfrac{df\\left(x\\right)}{dx}=\\lim_{h\\to0} \\dfrac{f\\left(x+h\\right)-f\\left(x\\right)}{h}$$\n",
    "- But, this equation has 2 problems:\n",
    "    + 1. It’s an *approximation* to the gradient.\n",
    "    + 2. It’s painfully slow.\n",
    "    \n",
    "&nbsp;&nbsp;&nbsp;&nbsp; In practice, we use the **analytic gradient** instead."
   ]
  },
  {
   "cell_type": "markdown",
   "metadata": {
    "id": "HbASKnSyuyu5"
   },
   "source": [
    "## 3. Implementation"
   ]
  },
  {
   "cell_type": "markdown",
   "metadata": {
    "id": "YTn9OjQYuyu6"
   },
   "source": [
    "### 3.1. Import library"
   ]
  },
  {
   "cell_type": "code",
   "execution_count": 1,
   "metadata": {
    "id": "Q2Ri4LC2uyu7"
   },
   "outputs": [],
   "source": [
    "from sklearn.model_selection import train_test_split\n",
    "from sklearn.metrics import classification_report\n",
    "from sklearn.datasets import make_blobs\n",
    "import matplotlib.pyplot as plt\n",
    "import numpy as np"
   ]
  },
  {
   "cell_type": "markdown",
   "metadata": {
    "id": "ya84WD_Auyu-"
   },
   "source": [
    "### 3.2. Create data"
   ]
  },
  {
   "cell_type": "code",
   "execution_count": 2,
   "metadata": {
    "id": "xxZPB5hyuyu_"
   },
   "outputs": [],
   "source": [
    "# generate a 2-class classification problem with 2,000 data points, each data point is a 2D feature vector\n",
    "(X, y) = make_blobs(n_samples=2000, n_features=2, centers=2, cluster_std=1.5, random_state=1)\n",
    "y = y.reshape((y.shape[0], 1))\n",
    "\n",
    "'''insert a column of 1’s as the last entry in the feature matrix  \n",
    "--> treat the bias as a trainable parameter'''\n",
    "X = np.c_[X, np.ones((X.shape[0]))]\n",
    "\n",
    "# Split data, use 50% of the data for training and the remaining 50% for testing\n",
    "(trainX, testX, trainY, testY) = train_test_split(X, y, test_size=0.5, random_state=42)\n"
   ]
  },
  {
   "cell_type": "markdown",
   "metadata": {
    "id": "Bosr9l6fuyvC"
   },
   "source": [
    "### 3.3. Training\n",
    "#### Sigmoid function and derivative of the sigmoid function"
   ]
  },
  {
   "cell_type": "code",
   "execution_count": 3,
   "metadata": {
    "id": "TDd0RJONuyvC"
   },
   "outputs": [],
   "source": [
    "def sigmoid_activation(x):\n",
    "    \n",
    "    \"\"\"compute the sigmoid activation value for a given input\"\"\"\n",
    "    \n",
    "    #TODO\n",
    "    return 1/(1+ np.exp(-x))\n",
    "\n",
    "def sigmoid_deriv(x):\n",
    "    '''compute the derivative of the sigmoid function ASSUMING\n",
    "    that the input ‘x‘ has already been passed through the sigmoid\n",
    "    activation function'''\n",
    "    #TODO\n",
    "    return x*(1-x)\n"
   ]
  },
  {
   "cell_type": "markdown",
   "metadata": {
    "id": "09xCNUMmuyvF"
   },
   "source": [
    "#### Compute output"
   ]
  },
  {
   "cell_type": "code",
   "execution_count": 4,
   "metadata": {
    "id": "JOedv39ruyvG"
   },
   "outputs": [],
   "source": [
    "def compute_h(W, X):\n",
    "    \"\"\"\n",
    "    Compute output: Take the dot product between our features ‘X‘ and the weight\n",
    "    matrix ‘W‘, then pass this value through our sigmoid activation function \n",
    "    \"\"\"\n",
    "    #TODO\n",
    "    return sigmoid_activation(X @ W)\n",
    "def predict(W, X):\n",
    "    '''Take the dot product between our features and weight matrix, \n",
    "       then pass this value through our sigmoid activation'''\n",
    "    #TODO\n",
    "    preds = compute_h(W,X)\n",
    "    # apply a step function to threshold the outputs to binary\n",
    "    # class labels\n",
    "    preds[preds <= 0.5] = 0\n",
    "    preds[preds > 0] = 1\n",
    "\n",
    "    return preds"
   ]
  },
  {
   "cell_type": "markdown",
   "metadata": {
    "id": "3kQCwnGYuyvJ"
   },
   "source": [
    "#### Initialize our weight matrix and list of losses"
   ]
  },
  {
   "cell_type": "code",
   "execution_count": 5,
   "metadata": {
    "id": "BIeit25BuyvJ"
   },
   "outputs": [],
   "source": [
    "W = np.random.randn(X.shape[1], 1)\n",
    "losses = []\n",
    "\n",
    "import copy\n",
    "W_t = copy.deepcopy(W)"
   ]
  },
  {
   "cell_type": "markdown",
   "metadata": {
    "id": "aF2u4fHZuyvO"
   },
   "source": [
    "#### Compute gradient"
   ]
  },
  {
   "cell_type": "code",
   "execution_count": 6,
   "metadata": {
    "id": "S4uoc9NquyvP"
   },
   "outputs": [],
   "source": [
    "def compute_gradient(error, h, trainX):\n",
    "    #TODO \n",
    "    \"\"\"\n",
    "    The gradient descent update is the dot product between our\n",
    "    features and the error of the sigmoid derivative of our predictions\n",
    "    \"\"\"\n",
    "\n",
    "    gradient = trainX.T @ (2*sigmoid_deriv(h)*error)\n",
    "    return gradient\n",
    "    "
   ]
  },
  {
   "cell_type": "markdown",
   "metadata": {
    "id": "q4N1SN6euyvS"
   },
   "source": [
    "#### Training function "
   ]
  },
  {
   "cell_type": "code",
   "execution_count": 7,
   "metadata": {
    "id": "fQ0oHSZSuyvS"
   },
   "outputs": [],
   "source": [
    "def train(W,trainX, trainY, learning_rate, num_epochs):\n",
    "    for epoch in np.arange(0, num_epochs):\n",
    "        h = compute_h(W,trainX)\n",
    "        # now that we have our predictions, we need to determine the\n",
    "        # ‘error‘, which is the difference between our predictions and\n",
    "        # the true values\n",
    "        error = h - trainY        \n",
    "        loss = np.sum(error ** 2)\n",
    "        losses.append(loss)\n",
    "        gradient = compute_gradient(error, h, trainX)\n",
    "        W += -learning_rate * gradient\n",
    "\n",
    "        if epoch == 0 or (epoch + 1) % 5 == 0:\n",
    "            print(\"Epoch={}, loss={:.7f}\".format(int(epoch + 1),loss))\n",
    "        \n",
    "    return W"
   ]
  },
  {
   "cell_type": "markdown",
   "metadata": {
    "id": "uN7uO4cxuyvV"
   },
   "source": [
    "#### Train our model\n"
   ]
  },
  {
   "cell_type": "code",
   "execution_count": 8,
   "metadata": {
    "id": "gw4C8vDPuyvV"
   },
   "outputs": [
    {
     "name": "stdout",
     "output_type": "stream",
     "text": [
      "Epoch=1, loss=661.8862374\n",
      "Epoch=5, loss=2.1786823\n",
      "Epoch=10, loss=2.1459861\n",
      "Epoch=15, loss=2.1232998\n",
      "Epoch=20, loss=2.1053773\n",
      "Epoch=25, loss=2.0888948\n",
      "Epoch=30, loss=2.0728738\n",
      "Epoch=35, loss=2.0571264\n",
      "Epoch=40, loss=2.0416225\n",
      "Epoch=45, loss=2.0263571\n",
      "Epoch=50, loss=2.0113289\n",
      "Epoch=55, loss=1.9965368\n",
      "Epoch=60, loss=1.9819800\n",
      "Epoch=65, loss=1.9676573\n",
      "Epoch=70, loss=1.9535676\n",
      "Epoch=75, loss=1.9397095\n",
      "Epoch=80, loss=1.9260816\n",
      "Epoch=85, loss=1.9126825\n",
      "Epoch=90, loss=1.8995104\n",
      "Epoch=95, loss=1.8865635\n",
      "Epoch=100, loss=1.8738401\n"
     ]
    }
   ],
   "source": [
    "num_epochs=100\n",
    "learning_rate=0.01\n",
    "W = train(W,trainX, trainY, learning_rate, num_epochs)"
   ]
  },
  {
   "cell_type": "markdown",
   "metadata": {
    "id": "kTxdQU6GuyvZ"
   },
   "source": [
    "#### Evaluate result"
   ]
  },
  {
   "cell_type": "code",
   "execution_count": 9,
   "metadata": {
    "id": "zWGqYfjFuyva"
   },
   "outputs": [
    {
     "name": "stdout",
     "output_type": "stream",
     "text": [
      "              precision    recall  f1-score   support\n",
      "\n",
      "           0       0.99      1.00      1.00       486\n",
      "           1       1.00      0.99      1.00       514\n",
      "\n",
      "    accuracy                           1.00      1000\n",
      "   macro avg       1.00      1.00      1.00      1000\n",
      "weighted avg       1.00      1.00      1.00      1000\n",
      "\n"
     ]
    }
   ],
   "source": [
    "preds = predict(W, testX)\n",
    "print(classification_report(testY, preds))"
   ]
  },
  {
   "cell_type": "markdown",
   "metadata": {
    "id": "IiBkCQpGuyvf"
   },
   "source": [
    "**TODO: Study about accuracy, recall, precision, f1-score.**\n",
    "\n",
    "- Accuracy: How good the algorithm apply to the model\n",
    "$$ accuracy = \\frac{TP+TN}{TP+TN+FP+FN}$$ \n",
    "- Recall: \"The proportion of actual positives was identified correctly\" [1]\n",
    "$$ recall = \\frac{TP}{TP+FN} $$\n",
    "- Precision: \"The proportion of positive identifications was actually correct\" [1]\n",
    "$$ precision = \\frac{TP}{TP+FP}  $$\n",
    "- F1: \"Used to evaluate binary classification systems, which classify examples into positives or negatives\"[2]\n",
    "$$ Fscore = \\frac{2*recall*precision}{recall+prescision} $$\n",
    "\n",
    "[1]: https://developers.google.com/machine-learning/crash-course/classification/precision-and-recall\n",
    "[2]: https://deepai.org/machine-learning-glossary-and-terms/f-score\n",
    "\n",
    "\n",
    "**Note**\n",
    "<ul>\n",
    "<li> TN / True Negative: when actual is negative and predict is negative </li>\n",
    "<li> TP / True Positive: when actual is positive and predict is positive </li>\n",
    "<li> FN / False Negative: when actual is positive but predict is negative </li>\n",
    "<li> FP / False Positive: when actual is negative but predict is positive </li>"
   ]
  },
  {
   "cell_type": "markdown",
   "metadata": {},
   "source": [
    "**Result of accuracy, recall, precision, F1 score**"
   ]
  },
  {
   "cell_type": "code",
   "execution_count": 10,
   "metadata": {},
   "outputs": [
    {
     "name": "stdout",
     "output_type": "stream",
     "text": [
      "Accuracy : 0.997 \n",
      "Presision : 1.0 \n",
      "Recall : 0.9941634241245136\n",
      "F1 : 0.9970731707317073\n"
     ]
    }
   ],
   "source": [
    "from sklearn.metrics import precision_score, recall_score,f1_score, accuracy_score\n",
    "accuracy = accuracy_score(testY,preds)\n",
    "presision = precision_score(testY,preds)\n",
    "recall = recall_score(testY,preds)\n",
    "F1 = f1_score(testY,preds)\n",
    "print(\"Accuracy : {} \".format(accuracy))\n",
    "print(\"Presision : {} \".format(presision))\n",
    "print(\"Recall : {}\".format(recall))\n",
    "print(\"F1 : {}\".format(F1))"
   ]
  },
  {
   "cell_type": "code",
   "execution_count": 11,
   "metadata": {
    "id": "TiNckNH6uyvf"
   },
   "outputs": [
    {
     "data": {
      "text/plain": [
       "<matplotlib.collections.PathCollection at 0x195c8896820>"
      ]
     },
     "execution_count": 11,
     "metadata": {},
     "output_type": "execute_result"
    },
    {
     "data": {
      "image/png": "[encoded data removed]",
      "text/plain": [
       "<Figure size 842.4x595.44 with 1 Axes>"
      ]
     },
     "metadata": {
      "needs_background": "light"
     },
     "output_type": "display_data"
    }
   ],
   "source": [
    "plt.figure(figsize=(11.7,8.27))\n",
    "plt.title(\"Data\")\n",
    "plt.scatter(testX[:, 0], testX[:, 1], marker=\"o\", c=testY[:, 0], s=30)"
   ]
  },
  {
   "cell_type": "code",
   "execution_count": 12,
   "metadata": {
    "id": "jk2Xh1TGuyvh",
    "scrolled": true
   },
   "outputs": [
    {
     "data": {
      "image/png": "[encoded data removed]",
      "text/plain": [
       "<Figure size 842.4x595.44 with 1 Axes>"
      ]
     },
     "metadata": {
      "needs_background": "light"
     },
     "output_type": "display_data"
    }
   ],
   "source": [
    "plt.figure(figsize=(11.7,8.27))\n",
    "plt.plot(range(0, num_epochs), losses)\n",
    "plt.title(\"Training Loss\")\n",
    "plt.xlabel(\"Epoch #\")\n",
    "plt.ylabel(\"Loss\")\n",
    "plt.show()"
   ]
  },
  {
   "cell_type": "markdown",
   "metadata": {
    "id": "wa2EmWi6uyvj"
   },
   "source": [
    "**TODO: Try out different learning rates. Give me your observations**"
   ]
  },
  {
   "cell_type": "code",
   "execution_count": 13,
   "metadata": {},
   "outputs": [],
   "source": [
    "l_rate = [0.03, 0.05, 0.1, 0.3, 1, 3]\n",
    "W_bef = copy.copy(W_t)"
   ]
  },
  {
   "cell_type": "code",
   "execution_count": 14,
   "metadata": {},
   "outputs": [
    {
     "name": "stdout",
     "output_type": "stream",
     "text": [
      "Epoch=1, loss=661.8862374\n",
      "Epoch=5, loss=6.1813486\n",
      "Epoch=10, loss=1.9870678\n",
      "Epoch=15, loss=1.9708674\n",
      "Epoch=20, loss=1.9557119\n",
      "Epoch=25, loss=1.9409109\n",
      "Epoch=30, loss=1.9264378\n",
      "Epoch=35, loss=1.9122791\n",
      "Epoch=40, loss=1.8984212\n",
      "Epoch=45, loss=1.8848498\n",
      "Epoch=50, loss=1.8715503\n",
      "Epoch=55, loss=1.8585083\n",
      "Epoch=60, loss=1.8457093\n",
      "Epoch=65, loss=1.8331390\n",
      "Epoch=70, loss=1.8207836\n",
      "Epoch=75, loss=1.8086298\n",
      "Epoch=80, loss=1.7966647\n",
      "Epoch=85, loss=1.7848762\n",
      "Epoch=90, loss=1.7732526\n",
      "Epoch=95, loss=1.7617831\n",
      "Epoch=100, loss=1.7504576\n",
      "              precision    recall  f1-score   support\n",
      "\n",
      "           0       0.99      1.00      0.99       486\n",
      "           1       1.00      0.99      1.00       514\n",
      "\n",
      "    accuracy                           0.99      1000\n",
      "   macro avg       0.99      1.00      0.99      1000\n",
      "weighted avg       1.00      0.99      1.00      1000\n",
      "\n",
      "Epoch=1, loss=661.8862374\n",
      "Epoch=5, loss=9.0883717\n",
      "Epoch=10, loss=4.4206716\n",
      "Epoch=15, loss=1.9790159\n",
      "Epoch=20, loss=1.9683163\n",
      "Epoch=25, loss=1.9612391\n",
      "Epoch=30, loss=1.9550990\n",
      "Epoch=35, loss=1.9491590\n",
      "Epoch=40, loss=1.9433442\n",
      "Epoch=45, loss=1.9376359\n",
      "Epoch=50, loss=1.9320186\n",
      "Epoch=55, loss=1.9264778\n",
      "Epoch=60, loss=1.9209999\n",
      "Epoch=65, loss=1.9155720\n",
      "Epoch=70, loss=1.9101817\n",
      "Epoch=75, loss=1.9048171\n",
      "Epoch=80, loss=1.8994670\n",
      "Epoch=85, loss=1.8941201\n",
      "Epoch=90, loss=1.8887658\n",
      "Epoch=95, loss=1.8833936\n",
      "Epoch=100, loss=1.8779932\n",
      "              precision    recall  f1-score   support\n",
      "\n",
      "           0       0.99      1.00      0.99       486\n",
      "           1       1.00      0.99      0.99       514\n",
      "\n",
      "    accuracy                           0.99      1000\n",
      "   macro avg       0.99      0.99      0.99      1000\n",
      "weighted avg       0.99      0.99      0.99      1000\n",
      "\n",
      "Epoch=1, loss=661.8862374\n",
      "Epoch=5, loss=33.0249829\n",
      "Epoch=10, loss=9.9259883\n",
      "Epoch=15, loss=5.4973388\n",
      "Epoch=20, loss=5.4752405\n",
      "Epoch=25, loss=5.4552763\n",
      "Epoch=30, loss=5.4354530\n",
      "Epoch=35, loss=5.4158097\n",
      "Epoch=40, loss=5.3963706\n",
      "Epoch=45, loss=5.3771397\n",
      "Epoch=50, loss=5.3580916\n",
      "Epoch=55, loss=5.3391529\n",
      "Epoch=60, loss=5.3201522\n",
      "Epoch=65, loss=5.3006240\n",
      "Epoch=70, loss=5.2780302\n",
      "Epoch=75, loss=4.7170076\n",
      "Epoch=80, loss=1.9674375\n",
      "Epoch=85, loss=1.9664188\n",
      "Epoch=90, loss=1.9658404\n",
      "Epoch=95, loss=1.9653624\n",
      "Epoch=100, loss=1.9648897\n",
      "              precision    recall  f1-score   support\n",
      "\n",
      "           0       0.99      1.00      0.99       486\n",
      "           1       1.00      0.99      0.99       514\n",
      "\n",
      "    accuracy                           0.99      1000\n",
      "   macro avg       0.99      0.99      0.99      1000\n",
      "weighted avg       0.99      0.99      0.99      1000\n",
      "\n",
      "Epoch=1, loss=661.8862374\n",
      "Epoch=5, loss=85.2292554\n",
      "Epoch=10, loss=38.0011686\n",
      "Epoch=15, loss=38.0007150\n",
      "Epoch=20, loss=38.0004960\n",
      "Epoch=25, loss=38.0003640\n",
      "Epoch=30, loss=38.0002738\n",
      "Epoch=35, loss=38.0002070\n",
      "Epoch=40, loss=38.0001546\n",
      "Epoch=45, loss=38.0001115\n",
      "Epoch=50, loss=38.0000750\n",
      "Epoch=55, loss=38.0000431\n",
      "Epoch=60, loss=38.0000144\n",
      "Epoch=65, loss=37.9999882\n",
      "Epoch=70, loss=37.9999638\n",
      "Epoch=75, loss=37.9999406\n",
      "Epoch=80, loss=37.9999183\n",
      "Epoch=85, loss=37.9998964\n",
      "Epoch=90, loss=37.9998748\n",
      "Epoch=95, loss=37.9998530\n",
      "Epoch=100, loss=37.9998310\n",
      "              precision    recall  f1-score   support\n",
      "\n",
      "           0       0.91      1.00      0.95       486\n",
      "           1       1.00      0.91      0.95       514\n",
      "\n",
      "    accuracy                           0.95      1000\n",
      "   macro avg       0.96      0.95      0.95      1000\n",
      "weighted avg       0.96      0.95      0.95      1000\n",
      "\n",
      "Epoch=1, loss=661.8862374\n",
      "Epoch=5, loss=128.9996827\n",
      "Epoch=10, loss=128.9996132\n",
      "Epoch=15, loss=128.9995055\n",
      "Epoch=20, loss=128.9993168\n",
      "Epoch=25, loss=128.9989051\n",
      "Epoch=30, loss=128.9973972\n",
      "Epoch=35, loss=128.5431227\n",
      "Epoch=40, loss=100.0841582\n",
      "Epoch=45, loss=78.9994533\n",
      "Epoch=50, loss=78.9990871\n",
      "Epoch=55, loss=78.9976345\n",
      "Epoch=60, loss=77.6958629\n",
      "Epoch=65, loss=58.0003408\n",
      "Epoch=70, loss=58.0001736\n",
      "Epoch=75, loss=58.0001153\n",
      "Epoch=80, loss=58.0000851\n",
      "Epoch=85, loss=58.0000665\n",
      "Epoch=90, loss=58.0000538\n",
      "Epoch=95, loss=58.0000445\n",
      "Epoch=100, loss=58.0000374\n",
      "              precision    recall  f1-score   support\n",
      "\n",
      "           0       0.87      1.00      0.93       486\n",
      "           1       1.00      0.86      0.93       514\n",
      "\n",
      "    accuracy                           0.93      1000\n",
      "   macro avg       0.94      0.93      0.93      1000\n",
      "weighted avg       0.94      0.93      0.93      1000\n",
      "\n",
      "Epoch=1, loss=661.8862374\n",
      "Epoch=5, loss=130.0000000\n",
      "Epoch=10, loss=130.0000000\n",
      "Epoch=15, loss=130.0000000\n",
      "Epoch=20, loss=130.0000000\n",
      "Epoch=25, loss=130.0000000\n",
      "Epoch=30, loss=130.0000000\n",
      "Epoch=35, loss=130.0000000\n",
      "Epoch=40, loss=130.0000000\n",
      "Epoch=45, loss=130.0000000\n",
      "Epoch=50, loss=130.0000000\n",
      "Epoch=55, loss=130.0000000\n",
      "Epoch=60, loss=130.0000000\n",
      "Epoch=65, loss=130.0000000\n",
      "Epoch=70, loss=130.0000000\n",
      "Epoch=75, loss=130.0000000\n",
      "Epoch=80, loss=130.0000000\n",
      "Epoch=85, loss=130.0000000\n",
      "Epoch=90, loss=130.0000000\n",
      "Epoch=95, loss=130.0000000\n",
      "Epoch=100, loss=130.0000000\n",
      "              precision    recall  f1-score   support\n",
      "\n",
      "           0       0.76      1.00      0.87       486\n",
      "           1       1.00      0.71      0.83       514\n",
      "\n",
      "    accuracy                           0.85      1000\n",
      "   macro avg       0.88      0.85      0.85      1000\n",
      "weighted avg       0.88      0.85      0.85      1000\n",
      "\n"
     ]
    },
    {
     "name": "stderr",
     "output_type": "stream",
     "text": [
      "<ipython-input-3-040d4e138e08>:6: RuntimeWarning: overflow encountered in exp\n",
      "  return 1/(1+ np.exp(-x))\n"
     ]
    }
   ],
   "source": [
    "for i in l_rate:\n",
    "    W_ = copy.copy(W_bef)\n",
    "    W_l = train(W_,trainX, trainY, i, num_epochs)\n",
    "    preds = predict(W_l, testX)\n",
    "    print(classification_report(testY, preds))\n"
   ]
  },
  {
   "cell_type": "markdown",
   "metadata": {
    "id": "DHO_hn71uyvk"
   },
   "source": [
    "- If the learning rate is small, the gradient descent will be slow.Use many iteration to converge in global minimun.\n",
    "- If the learning rate is large enough, the gradient descent will be fast to converge in global minumun.\n",
    "- If the learning rate is too large, the gradient descent may fail to converge (bounding around global minimun) or even diverge (loss function may not descrease on every iteration) or get stuck in local minimun."
   ]
  }
 ],
 "metadata": {
  "colab": {
   "collapsed_sections": [],
   "name": "Lab02-GradientDescent.ipynb",
   "provenance": []
  },
  "kernelspec": {
   "display_name": "Python 3",
   "language": "python",
   "name": "python3"
  },
  "language_info": {
   "codemirror_mode": {
    "name": "ipython",
    "version": 3
   },
   "file_extension": ".py",
   "mimetype": "text/x-python",
   "name": "python",
   "nbconvert_exporter": "python",
   "pygments_lexer": "ipython3",
   "version": "3.8.5"
  }
 },
 "nbformat": 4,
 "nbformat_minor": 1
}
